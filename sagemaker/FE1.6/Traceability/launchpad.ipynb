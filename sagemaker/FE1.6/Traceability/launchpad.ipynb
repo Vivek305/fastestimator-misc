{
 "cells": [
  {
   "cell_type": "code",
   "execution_count": 1,
   "id": "1f795c30",
   "metadata": {},
   "outputs": [],
   "source": [
    "import sagemaker\n",
    "from sagemaker.tensorflow import TensorFlow"
   ]
  },
  {
   "cell_type": "code",
   "execution_count": 2,
   "id": "2c6eeeaf",
   "metadata": {},
   "outputs": [
    {
     "data": {
      "text/plain": [
       "'2.167.0'"
      ]
     },
     "execution_count": 2,
     "metadata": {},
     "output_type": "execute_result"
    }
   ],
   "source": [
    "sagemaker.__version__"
   ]
  },
  {
   "cell_type": "code",
   "execution_count": 3,
   "id": "42ce76bf",
   "metadata": {},
   "outputs": [],
   "source": [
    "experiment = TensorFlow(entry_point='entry_point.sh',\n",
    "                        dependencies=[\"mnist_tf.py\"],\n",
    "                        instance_type='ml.p2.xlarge',\n",
    "                        instance_count=1,\n",
    "                        role=sagemaker.get_execution_role(),\n",
    "                        base_job_name='FE-showcase-traceability',\n",
    "                        framework_version='2.11',\n",
    "                        py_version='py39',\n",
    "                        script_mode=True)"
   ]
  },
  {
   "cell_type": "code",
   "execution_count": 4,
   "id": "cc176ce9",
   "metadata": {},
   "outputs": [
    {
     "name": "stderr",
     "output_type": "stream",
     "text": [
      "INFO:sagemaker.image_uris:image_uri is not presented, retrieving image_uri based on instance_type, framework etc.\n"
     ]
    },
    {
     "name": "stdout",
     "output_type": "stream",
     "text": [
      "Using provided s3_resource\n"
     ]
    },
    {
     "name": "stderr",
     "output_type": "stream",
     "text": [
      "INFO:sagemaker:Creating training-job with name: FE-showcase-traceability-2023-07-27-01-04-56-839\n"
     ]
    }
   ],
   "source": [
    "#in mnist example, we actually don't need the data location, but we are passing a dummy & unrelated dataset here\n",
    "experiment.fit(inputs='s3://fastestimator-public/Montgomery/Montgomery/', wait=False)"
   ]
  },
  {
   "cell_type": "code",
   "execution_count": null,
   "id": "b2434835",
   "metadata": {},
   "outputs": [],
   "source": []
  }
 ],
 "metadata": {
  "kernelspec": {
   "display_name": "conda_python3",
   "language": "python",
   "name": "conda_python3"
  },
  "language_info": {
   "codemirror_mode": {
    "name": "ipython",
    "version": 3
   },
   "file_extension": ".py",
   "mimetype": "text/x-python",
   "name": "python",
   "nbconvert_exporter": "python",
   "pygments_lexer": "ipython3",
   "version": "3.10.10"
  }
 },
 "nbformat": 4,
 "nbformat_minor": 5
}
