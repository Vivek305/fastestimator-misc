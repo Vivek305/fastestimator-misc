{
 "cells": [
  {
   "cell_type": "code",
   "execution_count": 1,
   "id": "1f795c30",
   "metadata": {},
   "outputs": [],
   "source": [
    "import sagemaker\n",
    "from sagemaker.tensorflow import TensorFlow\n",
    "import time\n",
    "import os"
   ]
  },
  {
   "cell_type": "code",
   "execution_count": 2,
   "id": "2c6eeeaf",
   "metadata": {},
   "outputs": [
    {
     "data": {
      "text/plain": [
       "'2.167.0'"
      ]
     },
     "execution_count": 2,
     "metadata": {},
     "output_type": "execute_result"
    }
   ],
   "source": [
    "sagemaker.__version__"
   ]
  },
  {
   "cell_type": "code",
   "execution_count": 3,
   "id": "e687d83e",
   "metadata": {},
   "outputs": [],
   "source": [
    "def generate_s3_bucket(base_bucket):\n",
    "    ckpt_name = 'restore-wizard-' + time.strftime(\"%Y-%m-%d-%H-%M-%S\", time.gmtime())\n",
    "    return os.path.join(base_bucket, ckpt_name)"
   ]
  },
  {
   "cell_type": "code",
   "execution_count": 4,
   "id": "42ce76bf",
   "metadata": {},
   "outputs": [],
   "source": [
    "experiment = TensorFlow(entry_point='entry_point.sh',\n",
    "                        dependencies=[\"mnist_tf.py\"],\n",
    "                        instance_type='ml.p3.2xlarge',\n",
    "                        instance_count=1,\n",
    "                        role=sagemaker.get_execution_role(),\n",
    "                        base_job_name='FE-spot-showcase-search',\n",
    "                        framework_version='2.11',\n",
    "                        py_version='py39',\n",
    "                        script_mode=True,\n",
    "                        use_spot_instances=True,\n",
    "                        max_wait=86400,\n",
    "                        checkpoint_s3_uri=generate_s3_bucket(\"s3://team-ds/Xiaomeng/checkpoint\")) #change s3 bucket"
   ]
  },
  {
   "cell_type": "code",
   "execution_count": 5,
   "id": "cc176ce9",
   "metadata": {},
   "outputs": [
    {
     "name": "stderr",
     "output_type": "stream",
     "text": [
      "INFO:sagemaker.image_uris:image_uri is not presented, retrieving image_uri based on instance_type, framework etc.\n"
     ]
    },
    {
     "name": "stdout",
     "output_type": "stream",
     "text": [
      "Using provided s3_resource\n"
     ]
    },
    {
     "name": "stderr",
     "output_type": "stream",
     "text": [
      "INFO:sagemaker:Creating training-job with name: FE-spot-showcase-search-2023-07-26-23-18-55-479\n"
     ]
    }
   ],
   "source": [
    "#in mnist example, we actually don't need the data location, but we are passing a dummy & unrelated dataset here\n",
    "experiment.fit(inputs='s3://fastestimator-public/Montgomery/Montgomery/', wait=False)"
   ]
  },
  {
   "cell_type": "code",
   "execution_count": null,
   "id": "b2434835",
   "metadata": {},
   "outputs": [],
   "source": []
  }
 ],
 "metadata": {
  "kernelspec": {
   "display_name": "conda_python3",
   "language": "python",
   "name": "conda_python3"
  },
  "language_info": {
   "codemirror_mode": {
    "name": "ipython",
    "version": 3
   },
   "file_extension": ".py",
   "mimetype": "text/x-python",
   "name": "python",
   "nbconvert_exporter": "python",
   "pygments_lexer": "ipython3",
   "version": "3.10.10"
  }
 },
 "nbformat": 4,
 "nbformat_minor": 5
}
